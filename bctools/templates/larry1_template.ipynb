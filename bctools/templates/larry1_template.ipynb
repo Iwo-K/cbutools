{
 "cells": [
  {
   "cell_type": "markdown",
   "id": "a1aa2312-8875-4312-8d4c-f5837d0ea6cc",
   "metadata": {},
   "source": [
    "# LARRY barcode retrieval report"
   ]
  },
  {
   "cell_type": "code",
   "execution_count": null,
   "id": "9cdafe23-6a99-4cf0-a899-cbba1ef31630",
   "metadata": {},
   "outputs": [],
   "source": [
    "import bctools as bc\n",
    "import matplotlib.pyplot as plt"
   ]
  },
  {
   "cell_type": "code",
   "execution_count": null,
   "id": "99ae299b-5a8f-45a7-be48-355e1826a1ad",
   "metadata": {
    "tags": [
     "parameters"
    ]
   },
   "outputs": [],
   "source": [
    "read1 = None\n",
    "read2 = None\n",
    "min_reads = 20\n",
    "min_hamming = 3\n",
    "min_umis = 15\n",
    "csv_path = './larry1.csv'"
   ]
  },
  {
   "cell_type": "markdown",
   "id": "f1780f03-ee62-461e-bbf5-b534fe2e45ec",
   "metadata": {},
   "source": [
    "## Barcode retrieval"
   ]
  },
  {
   "cell_type": "code",
   "execution_count": null,
   "id": "139d5d96-5aec-4539-8f47-89d686870952",
   "metadata": {},
   "outputs": [],
   "source": [
    "#papermill_description=Reading_barcodes\n",
    "bar1 = bc.get_barcodes(files={'r1' : read1, 'r2' : read2})"
   ]
  },
  {
   "cell_type": "markdown",
   "id": "c72b6dc8-b7be-44fa-a9dd-ff41edde5b2d",
   "metadata": {},
   "source": [
    "## Barcode stistics"
   ]
  },
  {
   "cell_type": "code",
   "execution_count": null,
   "id": "d9808d92-3f6b-45ea-a472-dc182e283730",
   "metadata": {},
   "outputs": [],
   "source": [
    "bar1.plot_hist(groupby=[\"CBC\", \"Barcode\"])\n",
    "bar1.plot_barcode_no()\n",
    "bar1.summary()"
   ]
  },
  {
   "cell_type": "markdown",
   "id": "b3f74760-1f6c-42c2-89fc-506eb350f238",
   "metadata": {},
   "source": [
    "## Filtering by reads per CBC/barcode"
   ]
  },
  {
   "cell_type": "code",
   "execution_count": null,
   "id": "635af3e4-1f96-423b-b9b1-326d9901f97f",
   "metadata": {},
   "outputs": [],
   "source": [
    "#papermill_description=Filtering_by_reads\n",
    "bar2 = bar1.filter_by_reads(groupby=[\"CBC\", \"Barcode\"], min_counts=min_reads)\n",
    "bar2.plot_barcode_no()\n",
    "bar2.summary()"
   ]
  },
  {
   "cell_type": "markdown",
   "id": "321356f2-bff6-46f4-b294-af4d4c8ba2be",
   "metadata": {},
   "source": [
    "## Filtering by Hamming distance"
   ]
  },
  {
   "cell_type": "code",
   "execution_count": null,
   "id": "dff985d8-06ac-4133-96d5-b14afe00fc45",
   "metadata": {},
   "outputs": [],
   "source": [
    "#papermill_description=Filtering_by_hamming\n",
    "bar3 = bar2.filter_by_hamming(min_distance=min_hamming)\n",
    "bar3.plot_barcode_no()\n",
    "bar3.summary()"
   ]
  },
  {
   "cell_type": "markdown",
   "id": "8086f210-8217-443f-b2a8-f4203a298bd4",
   "metadata": {},
   "source": [
    "## Counting UMIs"
   ]
  },
  {
   "cell_type": "code",
   "execution_count": null,
   "id": "ed477c63-e3a3-47f6-a284-4b65d4cb3f2a",
   "metadata": {},
   "outputs": [],
   "source": [
    "#papermill_description=Counting_UMIs\n",
    "bar4 = bar3.count_UMI()\n",
    "bar4.plot_hist(groupby=[\"Barcode\", \"CBC\"])\n",
    "bar4.summary()"
   ]
  },
  {
   "cell_type": "markdown",
   "id": "c5734730-ba49-4e19-abc9-de7cd59a7cf4",
   "metadata": {},
   "source": [
    "## Filtering by UMIs per barocode/cell"
   ]
  },
  {
   "cell_type": "code",
   "execution_count": null,
   "id": "c217d51a-81e5-4824-9ceb-d2319181855e",
   "metadata": {},
   "outputs": [],
   "source": [
    "#papermill_description=Filtering_by_UMIs\n",
    "bar5 = bar4.filter_by_UMI(groupby=[\"CBC\", \"Barcode\"], min_counts=min_umis)\n",
    "bar5.plot_barcode_no()\n",
    "bar5.summary()"
   ]
  },
  {
   "cell_type": "markdown",
   "id": "527af793-6d34-48a5-96ad-dc82dab56561",
   "metadata": {},
   "source": [
    "## Assigning barcodes to each cell"
   ]
  },
  {
   "cell_type": "code",
   "execution_count": null,
   "id": "3b91588c-e84c-4db2-a533-d153899bd119",
   "metadata": {},
   "outputs": [],
   "source": [
    "#papermill_description=Assigning_barcodes_to_cells\n",
    "bar6 = bar5.assign_barcodes(dispr_filter=0.1)\n",
    "bar6.to_csv(csv_path)\n",
    "plt.hist(bar6.Barcode_n, bins=20)"
   ]
  }
 ],
 "metadata": {
  "kernelspec": {
   "display_name": "Python 3 (ipykernel)",
   "language": "python",
   "name": "python3"
  },
  "language_info": {
   "codemirror_mode": {
    "name": "ipython",
    "version": 3
   },
   "file_extension": ".py",
   "mimetype": "text/x-python",
   "name": "python",
   "nbconvert_exporter": "python",
   "pygments_lexer": "ipython3",
   "version": "3.9.7"
  }
 },
 "nbformat": 4,
 "nbformat_minor": 5
}
